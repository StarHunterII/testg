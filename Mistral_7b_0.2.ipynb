{
 "cells": [
  {
   "cell_type": "markdown",
   "id": "bbc3057c-b54e-422a-afa9-74330d8fd3a1",
   "metadata": {
    "execution": {
     "iopub.execute_input": "2024-03-05T12:34:08.067070Z",
     "iopub.status.busy": "2024-03-05T12:34:08.066024Z",
     "iopub.status.idle": "2024-03-05T12:34:08.085147Z",
     "shell.execute_reply": "2024-03-05T12:34:08.083664Z",
     "shell.execute_reply.started": "2024-03-05T12:34:08.067034Z"
    }
   },
   "source": [
    "# Пример использования LLM Mistral-7B-Instruct-v0.2\n",
    "Автор модели [mistralai](https://mistral.ai/)\n",
    "\n",
    "Источник [mistralai/Mistral-7B-Instruct-v0.2 на huggingface](https://huggingface.co/mistralai/Mistral-7B-Instruct-v0.2)."
   ]
  },
  {
   "cell_type": "markdown",
   "id": "fa15b591-fd46-4674-95c6-975069eeeb59",
   "metadata": {},
   "source": [
    "### Требования\n",
    "\n",
    "1. На проектном диске необходимо 16Gb свободного места\n",
    "2. Минимальная конфигурация вычислительных ресурсов g1.1 (1 карта GPU Vidia V100) "
   ]
  },
  {
   "cell_type": "markdown",
   "id": "859bb5cb-6949-486e-a3d7-82f01543db2c",
   "metadata": {},
   "source": [
    "### Установим библиотеки\n",
    "\n",
    "После выполнения ячейки перезагрузите ядро (Kernel -> Reset Kernel)"
   ]
  },
  {
   "cell_type": "code",
   "execution_count": null,
   "id": "88e95ab7-2852-41de-9904-9cd43685c1dd",
   "metadata": {
    "tags": []
   },
   "outputs": [],
   "source": [
    "%pip install transformers"
   ]
  },
  {
   "cell_type": "markdown",
   "id": "d5ad7b23-09f8-4578-b669-de9755f0a5b5",
   "metadata": {},
   "source": [
    "### Определяем и скачиваем модель"
   ]
  },
  {
   "cell_type": "code",
   "execution_count": null,
   "id": "76a10b06-7fcb-4c6f-bdb9-d11b7c1ab7ac",
   "metadata": {
    "tags": []
   },
   "outputs": [],
   "source": [
    "from transformers import AutoModelForCausalLM, AutoTokenizer\n",
    "\n",
    "device = \"cuda\" # the device to load the model onto\n",
    "\n",
    "model = AutoModelForCausalLM.from_pretrained(\"mistralai/Mistral-7B-Instruct-v0.2\")\n",
    "tokenizer = AutoTokenizer.from_pretrained(\"mistralai/Mistral-7B-Instruct-v0.2\")"
   ]
  },
  {
   "cell_type": "markdown",
   "id": "9f2e04d9-5949-4c7e-99dc-6ed592281397",
   "metadata": {},
   "source": [
    "### Делаем запрос к модели"
   ]
  },
  {
   "cell_type": "code",
   "execution_count": null,
   "id": "09092682-0959-4f2c-a0d9-3659b6d92383",
   "metadata": {
    "tags": []
   },
   "outputs": [],
   "source": [
    "messages = [\n",
    "    {\"role\": \"user\", \"content\": \"What is your favourite condiment?\"},\n",
    "    {\"role\": \"assistant\", \"content\": \"Well, I'm quite partial to a good squeeze of fresh lemon juice. It adds just the right amount of zesty flavour to whatever I'm cooking up in the kitchen!\"},\n",
    "    {\"role\": \"user\", \"content\": \"Do you have mayonnaise recipes?\"}\n",
    "]\n",
    "\n",
    "encodeds = tokenizer.apply_chat_template(messages, return_tensors=\"pt\")\n",
    "\n",
    "model_inputs = encodeds.to(device)\n",
    "model.to(device)\n",
    "\n",
    "generated_ids = model.generate(model_inputs, max_new_tokens=1000, do_sample=True)\n",
    "decoded = tokenizer.batch_decode(generated_ids)\n",
    "print(decoded[0])"
   ]
  },
  {
   "cell_type": "code",
   "execution_count": null,
   "id": "81c5ef7e-13a7-4ceb-b30a-5645e6cde55c",
   "metadata": {},
   "outputs": [],
   "source": []
  }
 ],
 "metadata": {
  "kernelspec": {
   "display_name": "DataSphere Kernel",
   "language": "python",
   "name": "python3"
  },
  "language_info": {
   "codemirror_mode": {
    "name": "ipython",
    "version": 3
   },
   "file_extension": ".py",
   "mimetype": "text/x-python",
   "name": "python",
   "nbconvert_exporter": "python",
   "pygments_lexer": "ipython3",
   "version": "3.7.7"
  }
 },
 "nbformat": 4,
 "nbformat_minor": 5
}
